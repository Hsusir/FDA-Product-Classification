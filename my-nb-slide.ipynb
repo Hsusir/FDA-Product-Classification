{
 "cells": [
  {
   "cell_type": "markdown",
   "id": "f8614b2c",
   "metadata": {
    "slideshow": {
     "slide_type": "slide"
    }
   },
   "source": [
    "# <center>醫療器材查詢方法概論</center>\n",
    "\n",
    "## <center>許旭緯</center>"
   ]
  },
  {
   "cell_type": "markdown",
   "id": "8468ce1c",
   "metadata": {
    "slideshow": {
     "slide_type": "slide"
    }
   },
   "source": [
    "# [前言]. 在醫材新創領域，一開始最重要的兩件事!\n",
    "\n",
    "<img src=\"./images/product code.png\" width=\"90%\">\n"
   ]
  },
  {
   "cell_type": "markdown",
   "id": "004eea95",
   "metadata": {
    "slideshow": {
     "slide_type": "subslide"
    }
   },
   "source": [
    "# “Intended for Use,” and “Indications for Use?”\n",
    "\n",
    "<img src=\"./images/Intended for Use.png\" width=\"90%\">"
   ]
  },
  {
   "cell_type": "markdown",
   "id": "cc8a1bb8",
   "metadata": {
    "slideshow": {
     "slide_type": "subslide"
    }
   },
   "source": [
    "# 醫療器材風險等級概述\n",
    "\n",
    " ## - 上市前通知（Premarket Notification，PMN）：\n",
    "    -  此上市途徑是依據 FD&c Act 第 510 節第 k 項，故經常簡稱為 510(k)。\n",
    "    -  此上市途徑主要為 Class Ⅱ醫療器材，部分為 Class Ⅰ或 Class Ⅲ。\n",
    "    \n",
    "## - 上市前審查（Premarket Approval，PMA）：\n",
    "    -  此上市途徑主要為 Class Ⅲ醫療器材，部分為經 FDA 判定不符合實質相等性 （Substantial Equivalence，SE）模式的 Class Ⅱ醫療器材\n"
   ]
  },
  {
   "cell_type": "markdown",
   "id": "41531071",
   "metadata": {
    "slideshow": {
     "slide_type": "subslide"
    }
   },
   "source": [
    "# 醫療器材風險等級分類\n",
    "\n",
    "### - *Class I* (low to moderate risk): general controls \n",
    "### - *Class II* (moderate to high risk): general controls & Special Controls\n",
    "### - *Class III* (high risk): general controls & Premarket Approval (PMA)\n",
    "\n",
    "<img src=\"./images/class1-3.png\" width=\"90%\">"
   ]
  },
  {
   "cell_type": "markdown",
   "id": "8cd081e3",
   "metadata": {
    "slideshow": {
     "slide_type": "subslide"
    }
   },
   "source": [
    "\n",
    "<img src=\"./images/general controls.png\" width=\"90%\">\n",
    "\n"
   ]
  },
  {
   "cell_type": "markdown",
   "id": "aad3c960",
   "metadata": {
    "slideshow": {
     "slide_type": "subslide"
    }
   },
   "source": [
    "# 更好懂得版本!\n",
    "\n",
    "<img src=\"./images/class1-3A.png\" width=\"90%\">\n",
    "\n",
    "資料來源: https://www.cde.org.tw/Content/Files/Knowledge/c9cd7c60-3745-4b65-80a4-d9d77512ec45.pdf\n"
   ]
  },
  {
   "cell_type": "markdown",
   "id": "b4b058ee",
   "metadata": {
    "slideshow": {
     "slide_type": "subslide"
    }
   },
   "source": [
    "# Premarket Notification 510(k)\n",
    "### 上市前通知（Premarket Notification）：此上市途徑是依據 FD&c Act 第 510 節第 k 項，故經常簡稱為 510(k)。\n",
    "- A 510(k) is a premarket submission made to FDA to demonstrate that the device to be marketed is as <font color=red size=4>safe and effective</font>, that is, <font color=red size=4>substantially equivalent</font>, to a legally marketed device (section 513(i)(1)(A) FD&C Act). \n",
    "- Submitters must compare their device to one or more similar legally marketed devices and make and support their substantial equivalence claims.\n",
    "- <font color=red size=4>A legally marketed device</font> is a device that was legally marketed prior to May 28, 1976 (preamendments device), or a device which has been reclassified from Class III to Class II or I, a device which has been found SE through the 510(k) process, or a device that was granted marketing authorization via the De Novo classification process under section 513(f)(2) of the FD&C Act that is not exempt from premarket notification requirements.\n",
    "- Until the submitter receives an order declaring a device SE, the submitter may not proceed to market the device. Once the device is determined to be SE, it can then be marketed in the U.S. <font color=red size=4>The SE determination</font> is usually made within 90 days and is made based on the information submitted by the submitter.\n",
    "- The submitter may market the device immediately after <font color=red size=4>510(k) clearance (許可函) </font>is granted. The manufacturer should be prepared for an FDA quality system (21 CFR 820) inspection at any time after 510(k) clearance.\n"
   ]
  },
  {
   "cell_type": "markdown",
   "id": "216232b6",
   "metadata": {
    "slideshow": {
     "slide_type": "subslide"
    }
   },
   "source": [
    "# What is Substantial Equivalence(實質等效)\n",
    "\n",
    "<img src=\"./images/SE.png\" width=\"90%\">\n",
    "<img src=\"./images/SE2.png\" width=\"90%\">"
   ]
  },
  {
   "cell_type": "markdown",
   "id": "6f5bfd98",
   "metadata": {
    "slideshow": {
     "slide_type": "subslide"
    }
   },
   "source": [
    "# What is Premarket Approval (PMA)\n",
    "\n",
    "- Premarket approval (PMA) is the FDA process of scientific and regulatory review to evaluate the <font color=red size=4>safety and effectiveness of Class III </font>medical devices.\n",
    "- FDA has determined that <font color=red size=4>general and special controls</font> alone are insufficient to assure the safety and effectiveness of Class III devices. \n",
    "- Therefore, these devices require a <font color=red size=4>premarket approval (PMA) </font>application under section 515 of the FD&C Act in order to obtain marketing approval. Please note that <font color=red size=4>some Class III preamendment devices may require a Class III 510(k)</font>. \n"
   ]
  },
  {
   "cell_type": "markdown",
   "id": "0cb08f00",
   "metadata": {
    "slideshow": {
     "slide_type": "subslide"
    }
   },
   "source": [
    "# What is De Novo?!\n",
    "- 美國 FDA 於 2014 年 8 月發表「創新且低風險之醫療器材分類程序(De Novo Classification Process)」指引草案\n",
    "- <font color=red size=4>白話文的說法</font>: \n",
    "    - 你的產品是中低風險，前無古人(獨一無二且找不到比對品)的產品，根本無法使用510(k)送件。\n",
    "\n",
    "- 過去以 510(k)申請而不具實質等同性之醫材，美國 FDA 會發出 NSE((not substantially equivalent, NSE) 通知函並主動將該醫材歸類到 Class III，並要求廠商以 PMA 申請上 市。此時廠商可提出 de novo 訴願申請，證明該醫材風險較低不須歸 類至 Class III，並以類似 510(k)的文件準備上市前申請。這樣兩階段的 程序較為冗長且繁重\n",
    "\n",
    "- De Novo核准後，產品當然legally Marketed，FDA也會產生<font color=red size=4>新的分類碼以及法規</font>\n",
    "\n",
    "<img src=\"./images/DeNovo.png\" width=\"80%\">\n"
   ]
  },
  {
   "cell_type": "markdown",
   "id": "8fb7d4ff",
   "metadata": {
    "slideshow": {
     "slide_type": "subslide"
    }
   },
   "source": [
    "# 何時申請510(k)!\n",
    "\n",
    "- 賣<font color=red size=3>新的醫材</font>到美國境內\n",
    "- 賣已經合法上市但是<font color=red size=3>有跟先前不同預期使用目的</font>的醫材到美國境內\n",
    "- 已經合法上市但是<font color=red size=3>後來有經過變更或修改過</font>的醫材\n"
   ]
  },
  {
   "cell_type": "markdown",
   "id": "f47f9900",
   "metadata": {
    "slideshow": {
     "slide_type": "slide"
    }
   },
   "source": [
    " # <center>PART 1: 基本查詢</center>\n",
    " \n",
    "## [實作題目]\n",
    "##  本篇將以<font color=red size=6>“非侵入式連續監測血糖機”</font> 為例，說明在TFDA及FDA網站查詢之應用\n",
    "\n",
    "### 查詢日期: 2021/05\n"
   ]
  },
  {
   "cell_type": "markdown",
   "id": "cee43aa7",
   "metadata": {
    "slideshow": {
     "slide_type": "subslide"
    }
   },
   "source": [
    "# 醫療器材分類分級查詢資料庫(TFDA)\n",
    "\n",
    "https://mdlicense.itri.org.tw/MDDB/(S(aa00ds45lyeklh45razvrj45))/Classification/Classification.aspx\n",
    "<img src=\"./images/TFDA.png\" width=\"90%\">"
   ]
  },
  {
   "cell_type": "markdown",
   "id": "e75b31b3",
   "metadata": {
    "slideshow": {
     "slide_type": "subslide"
    }
   },
   "source": [
    "\n",
    "<img src=\"./images/TFDARegulation.png\" width=\"90%\">\n",
    "\n",
    "### - 你會得到四個跟“血糖”有關的分級分類代碼，依據不同的應用，風險等級區分為Class Ⅰ and class Ⅱ\n",
    "### - 我們要採用的應該是A.1345這個產品代碼!"
   ]
  },
  {
   "cell_type": "markdown",
   "id": "125de1d9",
   "metadata": {
    "slideshow": {
     "slide_type": "subslide"
    }
   },
   "source": [
    "# 來看看A.1345寫些甚麼!\n",
    "\n",
    "<img src=\"./images/A1345.png\" width=\"90%\">"
   ]
  },
  {
   "cell_type": "markdown",
   "id": "0348f0d3",
   "metadata": {
    "slideshow": {
     "slide_type": "subslide"
    }
   },
   "source": [
    "# 這裡有你的台灣競爭對手\n",
    "\n",
    "<img src=\"./images/A1345B.png\" width=\"90%\">"
   ]
  },
  {
   "cell_type": "markdown",
   "id": "855204f8",
   "metadata": {
    "slideshow": {
     "slide_type": "subslide"
    }
   },
   "source": [
    "# 接下來，我們要去FDA相關網站查詢!\n",
    "<img src=\"./images/3FDA.png\" width=\"90%\">"
   ]
  },
  {
   "cell_type": "markdown",
   "id": "ebb6bc6a",
   "metadata": {
    "slideshow": {
     "slide_type": "subslide"
    }
   },
   "source": [
    "# FDA的Product Classification Database\n",
    "\n",
    "https://www.accessdata.fda.gov/scripts/cdrh/cfdocs/cfpcd/classification.cfm\n",
    "\n",
    "<img src=\"./images/PCD.png\" width=\"90%\">"
   ]
  },
  {
   "cell_type": "markdown",
   "id": "5c8eb1cf",
   "metadata": {
    "slideshow": {
     "slide_type": "subslide"
    }
   },
   "source": [
    "# FDA Regulation Number (法規類別)\n",
    "- 同一個Regulation number再以Product code區別不同使用目的&產品特徵\n",
    "- Regulation number 對於醫療器材的分級分類描述, 包含: 預期用途(intended use/ identification), 醫療器材等級(classification) \n"
   ]
  },
  {
   "cell_type": "markdown",
   "id": "a59bf80f",
   "metadata": {
    "slideshow": {
     "slide_type": "subslide"
    }
   },
   "source": [
    "# 我們來看看跟Glucose有關的醫療器材\n",
    "<img src=\"./images/Glucoseclass3.png\" width=\"80%\">\n",
    "\n",
    "### 再想一次我們的產品宣稱：非侵入式連續監測血糖機\n",
    "### 所以基本關鍵字是： \n",
    "- <font color=red size=3>非侵入式(Non Invasive)</font>、 \n",
    "- <font color=red size=3>連續血糖監測(continuous glucose monitoring, CGM)</font>\n"
   ]
  },
  {
   "cell_type": "markdown",
   "id": "6b6c3026",
   "metadata": {
    "slideshow": {
     "slide_type": "subslide"
    }
   },
   "source": [
    "# Class Ⅱ的有很多\n",
    "<img src=\"./images/8621345class2.png\" width=\"90%\">\n"
   ]
  },
  {
   "cell_type": "markdown",
   "id": "e8504cad",
   "metadata": {
    "slideshow": {
     "slide_type": "subslide"
    }
   },
   "source": [
    "# FDA 醫療器材分類(Regulation number)\n",
    "\n",
    "### 根據器材的預期用途和使用方法進行産品分類,共有1700多個類別(Regulation number), 不同類別的器材被歸爲16個大類，稱爲Panel(21 CFR 862-892)\n",
    "- <font color=red size=3>862</font>Clinical Chemistry and Clinical Toxicology(臨床化學與毒理學)\n",
    "- <font color=red size=3>864</font>Hematology and Pathology(血液與病理科)\n",
    "- <font color=red size=3>866</font> Immunology and Microbiology(免疫學與微生物學)\n",
    "- <font color=red size=3>868</font>Anesthesiology(麻醉科)\n",
    "- <font color=red size=3>870</font>Cardiovascular(心血管科)\n",
    "- <font color=red size=3>872</font>Dental(牙科)\n",
    "- <font color=red size=3>874</font>Ear, Nose, and Throat(耳鼻喉科)\n",
    "- <font color=red size=3>876</font>Gastroenterology and Urology(腸胃與泌尿科)\n",
    "- <font color=red size=3>878</font>General and Plastic Surgery(一般與整形外科手術)\n",
    "- <font color=red size=3>880</font>General Hospital and Personal Use(一般醫院與個人使用)\n",
    "- <font color=red size=3>882</font>Neurology(神經科)\n",
    "- <font color=red size=3>884</font>Obstetrical and Gynecological(婦產科)\n",
    "- <font color=red size=3>886</font>Ophthalmic(眼科)\n",
    "- <font color=red size=3>888</font>Orthopedic(骨科)\n",
    "- <font color=red size=3>890</font> Physical Medicine(物理醫學科)\n",
    "- <font color=red size=3>892</font>Radiology(放射線與醫療影像)\n"
   ]
  },
  {
   "cell_type": "markdown",
   "id": "cb58cffe",
   "metadata": {
    "slideshow": {
     "slide_type": "slide"
    }
   },
   "source": [
    "# <center>PART 2: 基礎過濾</center>\n"
   ]
  },
  {
   "cell_type": "markdown",
   "id": "7f4fab22",
   "metadata": {
    "slideshow": {
     "slide_type": "subslide"
    }
   },
   "source": [
    "# 稍微過濾一下關鍵字\n",
    "\n",
    "### 基本關鍵字是： \n",
    "- <font color=red size=3>非侵入式(Non Invasive)</font>、 \n",
    "- <font color=red size=3>連續血糖監測(continuous glucose monitoring, CGM)</font>\n",
    "\n",
    "### 你會發現，剩下的Product Code並不多\n",
    "<img src=\"./images/product code2.png\" width=\"90%\">"
   ]
  },
  {
   "cell_type": "markdown",
   "id": "6c4b6dd2",
   "metadata": {
    "slideshow": {
     "slide_type": "subslide"
    }
   },
   "source": [
    "# 先從Class Ⅱ的PYV看起\n",
    "\n",
    "<img src=\"./images/PYV.png\" width=\"80%\">"
   ]
  },
  {
   "cell_type": "markdown",
   "id": "5eb085d0",
   "metadata": {
    "slideshow": {
     "slide_type": "subslide"
    }
   },
   "source": [
    "# 剩下的，都是ClassⅢ的PMA\n",
    "<img src=\"./images/NCT.png\" width=\"80%\">"
   ]
  },
  {
   "cell_type": "markdown",
   "id": "577f97ed",
   "metadata": {
    "slideshow": {
     "slide_type": "subslide"
    }
   },
   "source": [
    "# PZE\n",
    "<img src=\"./images/PZE.png\" width=\"80%\">"
   ]
  },
  {
   "cell_type": "markdown",
   "id": "37814ffa",
   "metadata": {
    "slideshow": {
     "slide_type": "subslide"
    }
   },
   "source": [
    "# QCD\n",
    "<img src=\"./images/QCD.png\" width=\"80%\">"
   ]
  },
  {
   "cell_type": "markdown",
   "id": "a2567966",
   "metadata": {
    "slideshow": {
     "slide_type": "subslide"
    }
   },
   "source": [
    "# QHJ\n",
    "<img src=\"./images/QHJ.png\" width=\"80%\">"
   ]
  },
  {
   "cell_type": "markdown",
   "id": "7db1cf3c",
   "metadata": {
    "slideshow": {
     "slide_type": "subslide"
    }
   },
   "source": [
    "# Product Code小結\n",
    "\n",
    "### Class Ⅱ\n",
    "- PYV：在醫院環境中連續，定量地測量全血中的葡萄糖\n",
    "\n",
    "### Class Ⅲ\n",
    "- NCT：非侵入式葡萄糖儀器\n",
    "- PZE：侵入式（皮膚穿刺）葡萄糖特異性生物感測器\n",
    "- QCD：植入皮下的連續感測\n",
    "- QHJ：非輔助植入式(皮下)葡萄糖感測器\n",
    "\n",
    "### 因此後續，應以<font color=red size=5>NCT、PZE</font>為主要查詢方向\n"
   ]
  },
  {
   "cell_type": "markdown",
   "id": "16a5d7b3",
   "metadata": {
    "slideshow": {
     "slide_type": "slide"
    }
   },
   "source": [
    "# <center>PART 3: PMA查詢</center>\n",
    "\n",
    "https://www.accessdata.fda.gov/scripts/cdrh/cfdocs/cfpcd/classification.cfm\n"
   ]
  },
  {
   "cell_type": "markdown",
   "id": "d6bbb14a",
   "metadata": {
    "slideshow": {
     "slide_type": "subslide"
    }
   },
   "source": [
    "# 既然我們知道可能是以NCT、PZE為主要查詢方向\n",
    "\n",
    "### 那就來看看，這兩個Product code下，有哪些過去核可的器材\n",
    "\n",
    "<img src=\"./images/PMAs.png\" width=\"25%\">"
   ]
  },
  {
   "cell_type": "markdown",
   "id": "e02ece6d",
   "metadata": {
    "slideshow": {
     "slide_type": "subslide"
    }
   },
   "source": [
    "# 先查詢NCT\n",
    "<img src=\"./images/PMANCT.png\" width=\"60%\">"
   ]
  },
  {
   "cell_type": "markdown",
   "id": "95ed26ae",
   "metadata": {
    "slideshow": {
     "slide_type": "subslide"
    }
   },
   "source": [
    "# Glucowatch G2 Biographer 於 2004年通過 FDA (PMA)\n",
    "\n",
    "<img src=\"./images/Glucowatch G2 Biographer.png\" width=\"80%\">\n",
    "\n",
    "### 基本上是同一家公司，所以你可以看出“<font color=red size=5>改版歷程</font>\"\n"
   ]
  },
  {
   "cell_type": "markdown",
   "id": "f1b50362",
   "metadata": {
    "slideshow": {
     "slide_type": "subslide"
    }
   },
   "source": [
    "<img src=\"./images/PMA2004.png\" width=\"80%\">"
   ]
  },
  {
   "cell_type": "markdown",
   "id": "cdefa0a7",
   "metadata": {
    "slideshow": {
     "slide_type": "subslide"
    }
   },
   "source": [
    "# INDICATIONS FOR USE (Glucowatch,2001)\n",
    "\n",
    "- APPROVAL FOR THE GLUCOWATCH(R) AUTOMATIC GLUCOSE BIOGRAPHER. THE DEVICE IS INDICATED FOR: THE GLUCOWATCH(R) AUTOMATIC GLUCOSE BIOGRAPHER IS A GLUCOSE MONITORING DEVICE INDICATED FOR DETECTING TRENDS AND TRACKING PATTERNS IN GLUCOSE LEVELS IN ADULTS (AGE 18 AND OLDER) WITH DIABETES. \n",
    "- THE DEVICE IS <font color=red size=3>INTENDED FOR USE</font> BY PATIENTS AT HOME AND IN HEALTH CARE FACILITIES. THE GLUCOWATCH BIOGRAPHER IS INDICATED FOR USE AS AN ADJUNCTIVE DEVICE TO SUPPLEMENT, NOT REPLACE, INFORMATION OBTAINED FROM STANDARD HOME GLUCOSE MONITORING DEVICES. \n",
    "- THE BIOGRAPHER IS <font color=red size=3>INDICATED FOR USE</font> IN THE DETECTION AND ASSESSMENT OF EPISODES OF HYPERGLYCEMIA AND HYPOGLYCEMIA, FACILITATING BOTH ACUTE AND LONG-TERM THERAPY ADJUSTMENTS, WHICH MAY MINIMIZE THESE EXCURSIONS. INTERPRETATION OF BIOGRAPHER RESULTS WHOULD BE BASED ON THE TRENDS AND PATTERNS SEEN WITH SEVERAL SEQUENTIAL READINGS OVER TIME.\n"
   ]
  },
  {
   "cell_type": "markdown",
   "id": "9d0c67ba",
   "metadata": {
    "slideshow": {
     "slide_type": "subslide"
    }
   },
   "source": [
    "# 關鍵字\n",
    "\n",
    "#### A GLUCOSE MONITORING DEVICE INDICATED FOR DETECTING TRENDS AND TRACKING PATTERNS IN GLUCOSE LEVELS IN ADULTS (AGE 18 AND OLDER)\n",
    "- <font color=red size=3>是一種葡萄糖監測設備，用於檢測成年人（年齡在18歲及以上）糖尿病中葡萄糖的趨勢和追踪</font>。\n",
    "\n",
    "#### THE DEVICE IS<font color=red size=3> INTENDED FOR USE</font> BY PATIENTS AT HOME AND IN HEALTH CARE FACILITIES\n",
    "- <font color=red size=3> 該設備僅供患者 HOME AND IN HEALTH CARE使用</font>\n",
    "\n",
    "#### THE GLUCOWATCH BIOGRAPHER IS <font color=red size=3> INDICATED FOR USE</font> AS AN ADJUNCTIVE DEVICE TO SUPPLEMENT, <font color=red size=3>NOT REPLACE</font>, INFORMATION OBTAINED FROM STANDARD HOME GLUCOSE MONITORING DEVICES.\n",
    "- <font color=red size=3> 指定為補充（而不是代替）標準家庭血糖監測設備中所獲得資訊的輔助設備!</font>"
   ]
  },
  {
   "cell_type": "markdown",
   "id": "d47ee983",
   "metadata": {
    "slideshow": {
     "slide_type": "subslide"
    }
   },
   "source": [
    "### 截至目前，這是第一個也是唯一通過美國FDA認證的戴在手腕上的非侵入式血糖儀\n",
    "\n",
    "<img src=\"./images/GLUCOWATCH2001.jpg\" width=\"30%\">\n",
    "\n",
    "### 因其對皮膚的刺激性，以及很不穩定的精度（運動、出汗、環境溫度等因素），在該產品被認證幾年後，就被從市場上召回\n",
    "- 技術原理：反向離子電滲透（Reverse iontophoresis ）\n",
    "- 目標區域：手腕皮膚\n",
    "- 監測頻率：可持續監測，每10分鐘更新一次數據\n"
   ]
  },
  {
   "cell_type": "markdown",
   "id": "f4c4606a",
   "metadata": {
    "slideshow": {
     "slide_type": "subslide"
    }
   },
   "source": [
    "# 那我們換查PZE\n",
    "- 共有43筆資料，都是同一家公司\n",
    "- 從09/27/2017 一直到現在最新一筆是01/09/2021\n",
    "- 看的出來從12/16/2019這一代以後，整合了前面包括Pro及Flash 的特性\n",
    "\n",
    "<img src=\"./images/PZE1.png\" width=\"60%\">"
   ]
  },
  {
   "cell_type": "markdown",
   "id": "361bc699",
   "metadata": {
    "slideshow": {
     "slide_type": "subslide"
    }
   },
   "source": [
    "# FreeStyle Libre 14-Day Flash Glucose Monitoring System\n",
    "\n",
    "### 亞培Libre得以「連續量測」人體之血糖為由，於 2017年通過美國 FDA個案審查/Class 3 (PMA) \n",
    "\n",
    "<img src=\"./images/FreeStyle Libre.png\" width=\"80%\">\n",
    "\n"
   ]
  },
  {
   "cell_type": "markdown",
   "id": "7dee048e",
   "metadata": {
    "slideshow": {
     "slide_type": "subslide"
    }
   },
   "source": [
    "# 點選original PMA\n",
    "\n",
    "https://www.accessdata.fda.gov/scripts/cdrh/cfdocs/cfpma/pma.cfm?id=P160030\n",
    "\n",
    "<img src=\"./images/originPMA.png\" width=\"80%\">"
   ]
  },
  {
   "cell_type": "markdown",
   "id": "36753c9e",
   "metadata": {
    "slideshow": {
     "slide_type": "subslide"
    }
   },
   "source": [
    "# 有些關鍵字需要知道\n",
    "\n",
    "### Clinical Trials：\n",
    "- 可以知道臨床試驗怎麼做的\n",
    "\n",
    "### Approval Order ：\n",
    "- 核准函\n",
    "\n",
    "### Summary Of Safety And Effectiveness ：\n",
    "- 當通過 Original PMA 或 PMA Supplement 後， FDA 會把核准決定公布在網站上，而其中 Original PMA 和 Panel-Track Supplement 核准後， FDA 還會把 Summary of Safety and Effectiveness Document (SSED) 公布於網站， <font color=red size=3>SSED 內容有支持 FDA 核准決定的詳盡的臨床前與臨床測試資料</font>\n",
    "\n",
    "### Labeling ：\n",
    "- PMA 是專門為了高風險醫療器材所設立的上市審核途徑，既然為高風險醫材，當然不可能核准上市後就不管它了 (醫療器材都在講全生命週期的風險管理)。 FDA 規定每個 PMA holder都需要繳交年度報告，報告內容須涵蓋公開與未公開的資訊，例如，年度銷售量、安全相關資訊、任何的產品變更。 FDA 看完年度報告後，可能會要求更多資料或者依這些新增的資訊去變更標示 (Labeling)。另外，FDA 也要求將可能造成死亡或嚴重傷害的不良事件或產品故障相關資訊上傳至 Medical Device Reporting System (MDR)\n"
   ]
  },
  {
   "cell_type": "markdown",
   "id": "3c739212",
   "metadata": {
    "slideshow": {
     "slide_type": "subslide"
    }
   },
   "source": [
    "# INDICATIONS FOR USE (亞培,2017)\n",
    "\n",
    "### The FreeStyle Libre Flash Glucose Monitoring System is a continuous glucose monitoring (CGM) device indicated for the management of diabetes in persons age 18 and older.\n",
    "- <font color=red size=3>是一種連續血糖監測（CGM）設備，適用於18歲及以上人群的糖尿病管理</font>\n",
    "\n",
    "### It is designed to replace blood glucose testing for diabetes treatment decisions.\n",
    "- <font color=red size=3>代替血糖測試來決定糖尿病的治療決策</font>。\n",
    "- <font color=red size=3>換句話說，他沒有說”診斷“或”篩檢“ 喔</font>\n",
    "\n",
    "### The System is intended for single patient use and requires a prescription.\n",
    "- <font color=red size=3>該系統僅供病人使用，需要處方</font>。\n",
    "\n",
    "<img src=\"./images/PZE2.png\" width=\"80%\">"
   ]
  },
  {
   "cell_type": "markdown",
   "id": "2a501df3",
   "metadata": {
    "slideshow": {
     "slide_type": "subslide"
    }
   },
   "source": [
    "# 從亞培的網站上，我們發現他其實是一個包括APP的System\n",
    "\n",
    "<img src=\"./images/FreeStyle Libre14.png\" width=\"80%\">\n"
   ]
  },
  {
   "cell_type": "markdown",
   "id": "90c0826f",
   "metadata": {
    "slideshow": {
     "slide_type": "subslide"
    }
   },
   "source": [
    "# 來看看SUMMARY OF SAFETY AND EFFECTIVENESS DATA (SSED)\n",
    "\n",
    "### INDICATIONS FOR USE\n",
    "### NONCLINICAL STUDIES \n",
    "- System Level Testing\n",
    "- Reader Level Testing \t\n",
    "- Sensor Insertion Device Level Testing \t\n",
    "- Sensor Component Level Testing \t\n",
    "- Biocompatibility\n",
    "- Animal Studies \n",
    "\n",
    "### PRIMARY CLINICAL STUDY(IES) \n",
    "- Clinical Inclusion and Exclusion Criteria\n",
    "- Study Population Demographics and Baseline Parameters\n",
    "- Safety and Effectiveness Results  \n"
   ]
  },
  {
   "cell_type": "markdown",
   "id": "c10d109d",
   "metadata": {
    "slideshow": {
     "slide_type": "subslide"
    }
   },
   "source": [
    "# 相關法規統整，要完成甚麼\n",
    "\n",
    "<img src=\"./images/RULE.png\" width=\"80%\">"
   ]
  },
  {
   "cell_type": "markdown",
   "id": "8c44eb4f",
   "metadata": {
    "slideshow": {
     "slide_type": "subslide"
    }
   },
   "source": [
    "# CLINICAL STUDY(亞培,2017)\n",
    "\n",
    "<img src=\"./images/CLINICAL STUDY.png\" width=\"60%\">\n",
    "\n",
    "### 第一階段：血糖70-180 mg/dL 的BaseLine，Day1-180\n",
    "- 簡單來說分成兩組，測HbA1c(糖化血色素)：為葡萄糖與紅血球內的血色素的結合，可用來評估近兩到三個月的平均血糖控制狀況和治療效果\n",
    "    - 實驗組: 149個sample(男94/女55)，18歲以上，用FreeStyle Libre \n",
    "    - 對照組: 75個sample (男56/女18) ， 18歲以上，用正常的指尖採血\n",
    "\n",
    "### 第二階段: 測試高血糖跟低血糖，Day194-208，用ANCOVA(共變數分析)分析結果\n",
    "- 高血糖：  >180 mg/dL and >240 mg/dL\n",
    "- 低血糖：  <70 mg/dL and <55 mg/dL\n",
    "\n"
   ]
  },
  {
   "cell_type": "markdown",
   "id": "6798bbc0",
   "metadata": {
    "slideshow": {
     "slide_type": "slide"
    }
   },
   "source": [
    "# <center>PART 4: 潛在競爭對手?</center>\n"
   ]
  },
  {
   "cell_type": "markdown",
   "id": "8ba1cecb",
   "metadata": {
    "slideshow": {
     "slide_type": "subslide"
    }
   },
   "source": [
    "# 我們已知通過PMA的有\n",
    "\n",
    "<img src=\"./images/通過PMA.png\" width=\"80%\">"
   ]
  },
  {
   "cell_type": "markdown",
   "id": "c5099429",
   "metadata": {
    "slideshow": {
     "slide_type": "subslide"
    }
   },
   "source": [
    "# 所以方法上，大概有三種\n",
    "\n",
    "### 1.研究論文\n",
    "### 2.商業報告(付費)\n",
    "### 3.專利檢索\n"
   ]
  },
  {
   "cell_type": "markdown",
   "id": "d0a913da",
   "metadata": {
    "slideshow": {
     "slide_type": "subslide"
    }
   },
   "source": [
    "# 1.研究論文\n",
    "\n",
    "### 基本關鍵字是： \n",
    "- 非侵入式(Non Invasive)、 連續血糖監測(continuous glucose monitoring, CGM)\n",
    "- FDA\n",
    "- Review\n",
    "- 同時設定在2017年後發表的文章\n",
    "\n",
    "<img src=\"./images/SCI-HUB.png\" width=\"60%\">"
   ]
  },
  {
   "cell_type": "markdown",
   "id": "e0c4bf36",
   "metadata": {
    "slideshow": {
     "slide_type": "subslide"
    }
   },
   "source": [
    "# 經過漫長的時間篩選過後，我們挑了以下五篇\n",
    "\n",
    "<img src=\"./images/SCI2.png\" width=\"80%\">"
   ]
  },
  {
   "cell_type": "markdown",
   "id": "90eb0a10",
   "metadata": {
    "slideshow": {
     "slide_type": "subslide"
    }
   },
   "source": [
    "# 有一篇引用次數超高的Nature biotechnology\n",
    "\n",
    "<img src=\"./images/Nature.png\" width=\"80%\">"
   ]
  },
  {
   "cell_type": "markdown",
   "id": "5d44bf99",
   "metadata": {
    "slideshow": {
     "slide_type": "subslide"
    }
   },
   "source": [
    "# 其他關於“專利”或是“商業報告(付費)”\n",
    "\n",
    "### 就有賴各位自行google了\n",
    "### 或是用育成經費買報告或資料庫\n"
   ]
  },
  {
   "cell_type": "markdown",
   "id": "9206a9ad",
   "metadata": {
    "slideshow": {
     "slide_type": "slide"
    }
   },
   "source": [
    "# <center>附件：那如果是Class Ⅱ呢</center>\n",
    "\n",
    "### 我們來看一下當時的唯一一個 Class Ⅱ 的<font color=red size=5>PYV</font>\n",
    "\n",
    "#### 510(k) Premarket Notification: https://www.accessdata.fda.gov/scripts/cdrh/cfdocs/cfPMN/pmn.cfm\n"
   ]
  },
  {
   "cell_type": "markdown",
   "id": "61f61392",
   "metadata": {
    "slideshow": {
     "slide_type": "subslide"
    }
   },
   "source": [
    "# 先說明510(K)的分類\n",
    "\n",
    "### 510(k)具有三種類型\n",
    "#### 1.傳統510(k) [Traditional 510(k)]：適用<font color=red size=3>新申請</font>醫療器材，需遞交其性能報告\n",
    "#### 2.特殊510(k) [Special 510(k)]：適用於<font color=red size=3>小幅修改</font>的醫療器材，這裡要注意的是，只能對自己擁有且在美國已經合法上市產品進行變更時申請\n",
    "#### 3.簡略510(k) [Abbreviate 510(k)]：<font color=red size=3>當醫療器材製造商保證並且聲明其產品符合現有FDA認可標準時</font>，即可提出\n"
   ]
  },
  {
   "cell_type": "markdown",
   "id": "b2b2c1a7",
   "metadata": {
    "slideshow": {
     "slide_type": "subslide"
    }
   },
   "source": [
    "# 如果是Class Ⅱ，要怎麼知道510(K)?\n",
    "\n",
    "#### 510(k) Premarket Notification: https://www.accessdata.fda.gov/scripts/cdrh/cfdocs/cfPMN/pmn.cfm\n",
    "\n",
    "<img src=\"./images/510K.png\" width=\"60%\">\n"
   ]
  },
  {
   "cell_type": "markdown",
   "id": "eadcd95e",
   "metadata": {
    "slideshow": {
     "slide_type": "subslide"
    }
   },
   "source": [
    "# 同一家公司，在2017及2020有核准\n",
    "\n",
    "#### 但你會發現 <font color=red size=3>K-number 不一樣</font>，假設我們先選2020年那一台\n",
    "\n",
    "<img src=\"./images/510K2.png\" width=\"80%\">"
   ]
  },
  {
   "cell_type": "markdown",
   "id": "1bbbe79b",
   "metadata": {
    "slideshow": {
     "slide_type": "subslide"
    }
   },
   "source": [
    "<img src=\"./images/K192785.png\" width=\"60%\">"
   ]
  },
  {
   "cell_type": "markdown",
   "id": "6712dd10",
   "metadata": {
    "slideshow": {
     "slide_type": "subslide"
    }
   },
   "source": [
    "# 甚麼情況下會有兩組 Product code\n",
    "\n",
    "### 1.Classification Product Code 是主代碼： <font color=red size=3>LZF</font>\n",
    "### 2.Subsequent Product Code 是輔助代碼： <font color=red size=3>PYV</font>\n",
    "- 用於主代碼的設備沒有的附加功能。\n",
    "- 表示該設備是一個組合（或擴展）設備\n",
    "\n",
    "<img src=\"./images/LZFPYV.png\" width=\"80%\">"
   ]
  },
  {
   "cell_type": "markdown",
   "id": "d7ff2b2f",
   "metadata": {
    "slideshow": {
     "slide_type": "subslide"
    }
   },
   "source": [
    "# 所以，他是用  <font color=red size=5>Infusion pump 去通過</font>，附加  <font color=red size=5>Glucose test system </font>的功能\n",
    "\n",
    "<img src=\"./images/OPTI5000.png\" width=\"80%\">\n"
   ]
  },
  {
   "cell_type": "markdown",
   "id": "4e61cb5b",
   "metadata": {
    "slideshow": {
     "slide_type": "subslide"
    }
   },
   "source": [
    "# 那就要回歸主題，既然有兩組code，那分別要做甚麼?\n",
    "\n",
    "### 你要回去找 k-number： <font color=red size=3>K192785</font>\n",
    "\n",
    "<img src=\"./images/K192785B.png\" width=\"50%\">"
   ]
  },
  {
   "cell_type": "markdown",
   "id": "dd50aa08",
   "metadata": {
    "slideshow": {
     "slide_type": "subslide"
    }
   },
   "source": [
    "# K192785: Indication(s) for Use \n",
    "\n",
    "#### The OptiScanner® 5000 Glucose Monitoring System is an automated, bedside glucose monitoring device indicated for detecting trends and tracking patterns in persons (age 18 and older) in the surgical intensive care unit. \n",
    "- 自動床邊血糖監測設備，用於檢測<font color=red size=3>外科重症病房中人員（18 歲及以上）的趨勢和追踪</font>。\n",
    "\n",
    "#### The system collects a venous whole blood sample via connection to a central venous catheter, centrifuges the sample, and measures the plasma glucose concentration. \n",
    "- 該系統通過連接到<font color=red size=3>中心靜脈導管收集靜脈全血樣本，離心樣本，並測量葡萄糖濃度</font>\n",
    "\n",
    "#### It is not intended for the screening or diagnosis of diabetes mellitus but is indicated for use in determining dysglycemia. \n",
    "- <font color=red size=3>它不是用於篩檢或診斷糖尿病</font>，而是用於確定血糖異常\n"
   ]
  },
  {
   "cell_type": "markdown",
   "id": "5fe30f0d",
   "metadata": {
    "slideshow": {
     "slide_type": "subslide"
    }
   },
   "source": [
    "# 你會發現其實K192785是比對K162042的\n",
    "\n",
    "#### 其實是同一家產品\n",
    "#### 所以你要回去找K162042\n",
    "\n",
    "<img src=\"./images/K162042.png\" width=\"50%\">"
   ]
  },
  {
   "cell_type": "markdown",
   "id": "954eaf25",
   "metadata": {
    "slideshow": {
     "slide_type": "slide"
    }
   },
   "source": [
    "# 今天總結: 稍微整理一下\n",
    "\n",
    "<img src=\"./images/Summary.png\" >"
   ]
  },
  {
   "cell_type": "code",
   "execution_count": null,
   "id": "89a0d18e",
   "metadata": {},
   "outputs": [],
   "source": []
  }
 ],
 "metadata": {
  "celltoolbar": "Slideshow",
  "kernelspec": {
   "display_name": "Python 3",
   "language": "python",
   "name": "python3"
  },
  "language_info": {
   "codemirror_mode": {
    "name": "ipython",
    "version": 3
   },
   "file_extension": ".py",
   "mimetype": "text/x-python",
   "name": "python",
   "nbconvert_exporter": "python",
   "pygments_lexer": "ipython3",
   "version": "3.8.8"
  }
 },
 "nbformat": 4,
 "nbformat_minor": 5
}
